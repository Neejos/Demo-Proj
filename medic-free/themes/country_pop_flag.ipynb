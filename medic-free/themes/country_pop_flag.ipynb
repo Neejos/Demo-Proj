{
 "cells": [
  {
   "cell_type": "code",
   "execution_count": 27,
   "metadata": {},
   "outputs": [],
   "source": [
    "from selenium import webdriver\n",
    "from bs4 import BeautifulSoup as bs\n",
    "    \n",
    "import time\n",
    "import pandas as pd\n",
    "\n",
    "import requests\n",
    "import pymongo \n",
    "import io\n",
    "    "
   ]
  },
  {
   "cell_type": "code",
   "execution_count": null,
   "metadata": {},
   "outputs": [],
   "source": [
    "import os\n",
    "if os.path.exists(\"C:\\Users\\neejo\\Demo-Proj\\data\\raw_data.csv\"):\n",
    " os.remove(\"C:\\Users\\neejo\\Demo-Proj\\data\\raw_data.csv\")\n",
    "else:\n",
    "  print(\"The file does not exist\")"
   ]
  },
  {
   "cell_type": "code",
   "execution_count": 58,
   "metadata": {},
   "outputs": [],
   "source": [
    "driver=webdriver.Firefox(executable_path='C:\\webdrivers2\\geckodriver.exe')"
   ]
  },
  {
   "cell_type": "code",
   "execution_count": null,
   "metadata": {},
   "outputs": [],
   "source": [
    "df=pd.read_html(\"https://en.wikipedia.org/wiki/List_of_states_and_territories_of_the_United_States_by_population\")\n",
    "#drop a level from mulitilevel index column\n",
    "\n",
    "df[0].columns = df[0].columns.droplevel()"
   ]
  },
  {
   "cell_type": "code",
   "execution_count": null,
   "metadata": {},
   "outputs": [],
   "source": [
    "df[0].drop(columns=['2010','April 1, 2010[9]','%[c]','Absolute','Seats','%','Est. pop. perelectoral vote,2019[a]','Est. 2019','2010','2010','Change,2010–2019','% of ElectoralCollege'],inplace=True)"
   ]
  },
  {
   "cell_type": "code",
   "execution_count": null,
   "metadata": {},
   "outputs": [],
   "source": [
    "State_df=df[0]\n",
    "State_df.dropna(inplace=True)"
   ]
  },
  {
   "cell_type": "code",
   "execution_count": null,
   "metadata": {},
   "outputs": [],
   "source": [
    "State_df.rename(columns={\"EstimatedJuly 1, 2019[8]\": \"Population\",\"Current\": \"Rank/Population\"},inplace=True)"
   ]
  },
  {
   "cell_type": "code",
   "execution_count": null,
   "metadata": {},
   "outputs": [],
   "source": [
    "State_df.Population= State_df.Population.apply(lambda x: x.split('[')[0])"
   ]
  },
  {
   "cell_type": "code",
   "execution_count": null,
   "metadata": {},
   "outputs": [],
   "source": [
    "State_df"
   ]
  },
  {
   "cell_type": "code",
   "execution_count": null,
   "metadata": {},
   "outputs": [],
   "source": [
    "US_DEATHS_CASES_Avg=pd.read_html(\"https://data.cdc.gov/Case-Surveillance/United-States-COVID-19-Cases-and-Deaths-by-State-o/9mfq-cb36\")"
   ]
  },
  {
   "cell_type": "code",
   "execution_count": null,
   "metadata": {},
   "outputs": [],
   "source": [
    "recs = dictr['result']['records']\n",
    "df = json_normalize(recs)\n",
    "print(df)"
   ]
  },
  {
   "cell_type": "code",
   "execution_count": null,
   "metadata": {},
   "outputs": [],
   "source": [
    "driver.get(\"https://covid.cdc.gov/covid-data-tracker/?CDC_AA_refVal=https%3A%2F%2Fwww.cdc.gov%2Fcoronavirus%2F2019-ncov%2Fcases-updates%2Fcases-in-us.html#cases_casesper100klast7days\")\n",
    "# driver.find_element_by_Xpath(\"/html/body/main/div/div[1]/div/div/div[5]/div[2]/div[1]/button\").click()"
   ]
  },
  {
   "cell_type": "code",
   "execution_count": null,
   "metadata": {},
   "outputs": [],
   "source": [
    "# access the slide class which has the div elements that contain both the title and the news\n",
    "info=driver.find_element_by_class_name(\"table-info\")\n",
    "soup=bs(info.get_attribute(\"innerHTML\"))\n",
    "soup"
   ]
  },
  {
   "cell_type": "markdown",
   "metadata": {},
   "source": [
    "## US 7 Day moving avg "
   ]
  },
  {
   "cell_type": "code",
   "execution_count": 68,
   "metadata": {},
   "outputs": [],
   "source": [
    "# Cases\n",
    "try:\n",
    "    driver.get(\"https://covid.cdc.gov/covid-data-tracker/?CDC_AA_refVal=https%3A%2F%2Fwww.cdc.gov%2Fcoronavirus%2F2019-ncov%2Fcases-updates%2Fcases-in-us.html#trends_dailytrendscases\")\n",
    "    \n",
    "except:\n",
    "    pass\n",
    "driver.find_element_by_id('view-radio-cases').click()\n",
    "\n",
    "src= driver.page_source\n",
    "# # driver.quit()\n",
    "soup= bs(src, 'lxml')\n",
    "# deaths=soup.find_element_by_id('view-radio-deaths')\n",
    "table=soup.find('table')\n",
    "table= pd.read_html(str(table),header=0)[0]\n",
    "table.to_csv(\"../../data/Moving_Avg_cases.csv\",header=True,index=False)"
   ]
  },
  {
   "cell_type": "code",
   "execution_count": 62,
   "metadata": {},
   "outputs": [],
   "source": [
    "#Deaths\n",
    "try:\n",
    "    driver.get(\"https://covid.cdc.gov/covid-data-tracker/?CDC_AA_refVal=https%3A%2F%2Fwww.cdc.gov%2Fcoronavirus%2F2019-ncov%2Fcases-updates%2Fcases-in-us.html#trends_dailytrendsdeaths\")\n",
    "    \n",
    "except:\n",
    "    pass\n",
    "driver.find_element_by_id('view-radio-deaths').click()\n",
    "\n",
    "src= driver.page_source\n",
    "# # driver.quit()\n",
    "soup= bs(src, 'lxml')\n",
    "# deaths=soup.find_element_by_id('view-radio-deaths')\n",
    "table=soup.find('table')\n",
    "table= pd.read_html(str(table),header=0)[0]\n",
    "table.to_csv(\"../../data/Moving_Avg_deaths.csv\",header=True,index=False)"
   ]
  },
  {
   "cell_type": "code",
   "execution_count": null,
   "metadata": {},
   "outputs": [],
   "source": []
  },
  {
   "cell_type": "code",
   "execution_count": null,
   "metadata": {},
   "outputs": [],
   "source": [
    "try:\n",
    "    driver.get(\"https://www.worldometers.info/coronavirus//country/us/\")\n",
    "except:\n",
    "    pass\n",
    "src= driver.page_source\n",
    "# driver.quit()\n",
    "soup= bs(src, 'lxml')\n",
    "table= soup.find_all('table')\n",
    "table= pd.read_html(str(table[1]),header=0)[0]\n",
    "table"
   ]
  },
  {
   "cell_type": "code",
   "execution_count": null,
   "metadata": {},
   "outputs": [],
   "source": [
    "table.drop(columns=[\"#\",\"Projections\"],inplace=True)"
   ]
  },
  {
   "cell_type": "code",
   "execution_count": null,
   "metadata": {},
   "outputs": [],
   "source": [
    "table.fillna(0)"
   ]
  },
  {
   "cell_type": "code",
   "execution_count": null,
   "metadata": {},
   "outputs": [],
   "source": [
    "table.to_csv(\"../../data/Cases_Data.csv\",header=True,index=False)"
   ]
  },
  {
   "cell_type": "markdown",
   "metadata": {},
   "source": [
    "## Country Data Scrape"
   ]
  },
  {
   "cell_type": "code",
   "execution_count": null,
   "metadata": {},
   "outputs": [],
   "source": [
    "try:\n",
    "    driver.get(\"https://www.worldometers.info/coronavirus//country/us/\")\n",
    "except:\n",
    "    pass\n",
    "src= driver.page_source\n",
    "# driver.quit()\n",
    "soup= bs(src, 'lxml')\n",
    "table= soup.find_all('table')\n",
    "table= pd.read_html(str(table[1]),header=0)[0]\n",
    "table"
   ]
  },
  {
   "cell_type": "code",
   "execution_count": null,
   "metadata": {},
   "outputs": [],
   "source": [
    "table.drop(columns=[\"#\"],inplace=True)\n",
    "table.fillna(0)\n",
    "table.to_csv(\"../../data/Countries_Data.csv\",header=True,index=False)"
   ]
  },
  {
   "cell_type": "markdown",
   "metadata": {},
   "source": [
    "## Race Data"
   ]
  },
  {
   "cell_type": "code",
   "execution_count": 24,
   "metadata": {},
   "outputs": [],
   "source": [
    "from selenium.webdriver.firefox.firefox_binary import FirefoxBinary\n",
    "from selenium.webdriver.common.desired_capabilities import DesiredCapabilities\n",
    "from selenium.webdriver.firefox.options import Options\n",
    "\n",
    "profile=Options()\n",
    "# profile = webdriver.FirefoxProfile()\n",
    "profile.set_preference(\"browser.download.folderList\", 2)\n",
    "profile.set_preference(\"browser.download.manager.showWhenStarting\", False)\n",
    "profile.set_preference(\"browser.download.dir\", '../../Demo-Proj/data')\n",
    "profile.set_preference(\"browser.helperApps.neverAsk.saveToDisk\", \"application/zip,application/octet-stream,application/x-zip-compressed,multipart/x-zip,application/x-rar-compressed, application/octet-stream,application/msword,application/vnd.ms-word.document.macroEnabled.12,application/vnd.openxmlformats-officedocument.wordprocessingml.document,application/vnd.ms-excel,application/vnd.openxmlformats-officedocument.spreadsheetml.sheet,application/vnd.openxmlformats-officedocument.spreadsheetml.sheet,application/vnd.openxmlformats-officedocument.wordprocessingml.document,application/vnd.openxmlformats-officedocument.spreadsheetml.sheet,application/rtf,application/vnd.openxmlformats-officedocument.spreadsheetml.sheet,application/vnd.ms-excel,application/vnd.ms-word.document.macroEnabled.12,application/vnd.openxmlformats-officedocument.wordprocessingml.document,application/xls,application/msword,text/csv,application/vnd.ms-excel.sheet.binary.macroEnabled.12,text/plain,text/csv/xls/xlsb,application/csv,application/download,application/vnd.openxmlformats-officedocument.presentationml.presentation,application/octet-stream\")\n",
    "profile.set_preference(\"browser.helperApps.alwaysAsk.force\", False)\n",
    "profile.set_preference(\"browser.download.manager.useWindow\", False)\n",
    "profile.set_preference(\"browser.download.manager.focusWhenStarting\", False)\n",
    "profile.set_preference(\"browser.helperApps.neverAsk.openFile\", \"\")\n",
    "profile.set_preference(\"browser.download.manager.alertOnEXEOpen\", False)\n",
    "profile.set_preference(\"browser.download.manager.showAlertOnComplete\", False)\n",
    "profile.set_preference(\"browser.download.manager.closeWhenDone\", True)\n",
    "profile.set_preference(\"pdfjs.disabled\", True)\n",
    "\n",
    "# caps = DesiredCapabilities.FIREFOX\n",
    "binary=FirefoxBinary('C:\\\\Program Files\\\\Mozilla Firefox\\\\firefox.exe')\n",
    "browser = webdriver.Firefox(options=profile,firefox_binary=binary, executable_path='C:\\webdrivers2\\geckodriver.exe')\n",
    "browser.get(\"https://www.kff.org/other/state-indicator/covid-19-cases-by-race-ethnicity/?currentTimeframe=0&sortModel=%7B%22colId%22:%22Location%22,%22sort%22:%22asc%22%7D\")\n",
    "browser.find_element_by_id('table-raw-data').click()"
   ]
  },
  {
   "cell_type": "code",
   "execution_count": null,
   "metadata": {},
   "outputs": [],
   "source": []
  },
  {
   "cell_type": "code",
   "execution_count": 4,
   "metadata": {},
   "outputs": [],
   "source": [
    "\n"
   ]
  },
  {
   "cell_type": "code",
   "execution_count": null,
   "metadata": {},
   "outputs": [],
   "source": []
  },
  {
   "cell_type": "markdown",
   "metadata": {},
   "source": [
    "## US Data reported since today morning\n",
    "#### For the Dashboard"
   ]
  },
  {
   "cell_type": "code",
   "execution_count": 10,
   "metadata": {},
   "outputs": [
    {
     "data": {
      "text/plain": [
       "str"
      ]
     },
     "execution_count": 10,
     "metadata": {},
     "output_type": "execute_result"
    }
   ],
   "source": [
    "# Import date and timdelta class \n",
    "# from datetime module \n",
    "# from datetime import date \n",
    "from datetime import timedelta \n",
    "from datetime import datetime\n",
    "today=datetime.today()\n",
    "yesterday = today - timedelta(days = 1) \n",
    "Daily_date=yesterday.strftime(\"%m-%d-%Y\")\n",
    "type(Daily_date)"
   ]
  },
  {
   "cell_type": "code",
   "execution_count": 14,
   "metadata": {},
   "outputs": [],
   "source": [
    "\n",
    "url=f\"https://raw.githubusercontent.com/CSSEGISandData/COVID-19/master/csse_covid_19_data/csse_covid_19_daily_reports_us/{Daily_date}.csv\"\n",
    "# daily_df=pd.read_csv(url,error_bad_lines=False)\n",
    "download = requests.get(url)\n",
    "download.raise_for_status()\n",
    "US_data=pd.read_csv(io.StringIO(download.text))"
   ]
  },
  {
   "cell_type": "code",
   "execution_count": 15,
   "metadata": {},
   "outputs": [],
   "source": [
    "US_data.to_csv(\"../../data/US_Data.csv\",header=True,index=False)"
   ]
  },
  {
   "cell_type": "code",
   "execution_count": null,
   "metadata": {},
   "outputs": [],
   "source": []
  }
 ],
 "metadata": {
  "kernelspec": {
   "display_name": "Python 3",
   "language": "python",
   "name": "python3"
  },
  "language_info": {
   "codemirror_mode": {
    "name": "ipython",
    "version": 3
   },
   "file_extension": ".py",
   "mimetype": "text/x-python",
   "name": "python",
   "nbconvert_exporter": "python",
   "pygments_lexer": "ipython3",
   "version": "3.7.6"
  }
 },
 "nbformat": 4,
 "nbformat_minor": 4
}
